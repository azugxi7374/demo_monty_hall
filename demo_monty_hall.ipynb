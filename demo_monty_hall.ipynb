{
 "cells": [
  {
   "cell_type": "markdown",
   "id": "f743f3d8",
   "metadata": {},
   "source": [
    "モンティ・ホール問題 - Wikipedia  \n",
    "c.f. https://ja.wikipedia.org/wiki/%E3%83%A2%E3%83%B3%E3%83%86%E3%82%A3%E3%83%BB%E3%83%9B%E3%83%BC%E3%83%AB%E5%95%8F%E9%A1%8C"
   ]
  },
  {
   "cell_type": "code",
   "execution_count": null,
   "id": "ddb3b260",
   "metadata": {},
   "outputs": [],
   "source": [
    "def monty_original():\n",
    "    w = random.randrange(0, 3)\n",
    "    s1 = random.randrange(0,3)\n",
    "\n",
    "    lst = [x for x in range(3) if x != s1]\n",
    "    \n",
    "    while True:\n",
    "        oi = random.randrange(len(lst))\n",
    "        s2i = (oi + 1) % len(lst)\n",
    "        if lst[oi] != w:\n",
    "            o = lst[oi]\n",
    "            s2 = lst[s2i]\n",
    "            break\n",
    "    return w, s1, o, s2\n"
   ]
  },
  {
   "cell_type": "code",
   "execution_count": null,
   "id": "86589a3a",
   "metadata": {},
   "outputs": [],
   "source": [
    "# https://ja.wikipedia.org/wiki/%E3%83%A2%E3%83%B3%E3%83%86%E3%82%A3%E3%83%BB%E3%83%9B%E3%83%BC%E3%83%AB%E5%95%8F%E9%A1%8C#%E5%A4%89%E6%9B%B4%E3%83%AB%E3%83%BC%E3%83%AB3\n",
    "def monty_variant3():\n",
    "    w = random.randrange(0, 3)\n",
    "    s1 = random.randrange(0,3)\n",
    "\n",
    "    lst = [x for x in range(3) if x != s1]\n",
    "    \n",
    "    oi = random.randrange(len(lst))\n",
    "    s2i = (oi + 1) % len(lst)\n",
    "    o = lst[oi]\n",
    "    s2 = lst[s2i]\n",
    "    \n",
    "    return w, s1, o, s2"
   ]
  },
  {
   "cell_type": "code",
   "execution_count": 215,
   "id": "9cc395cb",
   "metadata": {},
   "outputs": [
    {
     "name": "stdout",
     "output_type": "stream",
     "text": [
      "monty_original: valid=100000, win=66930, p=66.93\n",
      "monty_variant3: valid=66506, win=33330, p=50.11577902745616\n"
     ]
    }
   ],
   "source": [
    "import random\n",
    "\n",
    "N=100000\n",
    "\n",
    "funcs = [monty_original, monty_variant3]\n",
    "\n",
    "for f in funcs:\n",
    "    win, valid = 0, 0\n",
    "    for x in range(N):\n",
    "        w, s1, o, s2 = f()\n",
    "        if o != w:\n",
    "            valid += 1\n",
    "            if w == s2:\n",
    "                win += 1\n",
    "\n",
    "    print(f\"{f.__name__}: valid={valid}, win={win}, p={win/valid*100}\")"
   ]
  }
 ],
 "metadata": {
  "kernelspec": {
   "display_name": "Python 3 (ipykernel)",
   "language": "python",
   "name": "python3"
  },
  "language_info": {
   "codemirror_mode": {
    "name": "ipython",
    "version": 3
   },
   "file_extension": ".py",
   "mimetype": "text/x-python",
   "name": "python",
   "nbconvert_exporter": "python",
   "pygments_lexer": "ipython3",
   "version": "3.9.5"
  }
 },
 "nbformat": 4,
 "nbformat_minor": 5
}
